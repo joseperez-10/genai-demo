{
 "cells": [
  {
   "cell_type": "markdown",
   "metadata": {},
   "source": [
    "## Retraining a pre-trained model with OpenShift AI\n",
    "\n",
    "This example shows how to retrain a pre-trained YOLO model using a dataset obtained from Roboflow.The dataset has been customized with a few additional images.\n"
   ]
  },
  {
   "cell_type": "markdown",
   "metadata": {},
   "source": [
    "## Verify GPU\n",
    "\n",
    "First, we verify if we can access the GPU"
   ]
  },
  {
   "cell_type": "code",
   "execution_count": null,
   "metadata": {},
   "outputs": [],
   "source": [
    "!nvidia-smi"
   ]
  },
  {
   "cell_type": "markdown",
   "metadata": {},
   "source": [
    "## Setup Ultralytics\n",
    "\n",
    "Here we clone the Ultralytics's GitHub [repository](https://github.com/ultralytics/ultralytics), install and import YOLO."
   ]
  },
  {
   "cell_type": "code",
   "execution_count": null,
   "metadata": {},
   "outputs": [],
   "source": [
    "!pip install --upgrade pip\n",
    "\n",
    "!git clone https://github.com/ultralytics/ultralytics\n",
    "%cd ultralytics\n",
    "!pip install -e .\n",
    "\n",
    "from ultralytics import YOLO\n",
    "from PIL import Image"
   ]
  },
  {
   "cell_type": "markdown",
   "metadata": {},
   "source": [
    "## Extract dataset and verify"
   ]
  },
  {
   "cell_type": "code",
   "execution_count": null,
   "metadata": {},
   "outputs": [],
   "source": [
    "!unzip -q \"/opt/app-root/src/genai-demo/test/football-players-detection.v12i.yolov11-custom.zip\" -d /opt/app-root/src/genai-demo/dataset/"
   ]
  },
  {
   "cell_type": "code",
   "execution_count": null,
   "metadata": {},
   "outputs": [],
   "source": [
    "!ls /opt/app-root/src/genai-demo/dataset/*"
   ]
  },
  {
   "cell_type": "markdown",
   "metadata": {},
   "source": [
    "## Re-training the model\n",
    "\n",
    "Load the latest YOLO11 model and re-training with a dataset obtained from RoboFlow"
   ]
  },
  {
   "cell_type": "code",
   "execution_count": null,
   "metadata": {},
   "outputs": [],
   "source": [
    "model = YOLO(\"yolo11n.pt\")\n",
    "model.train(data='/opt/app-root/src/genai-demo/dataset/data.yaml', epochs=20, imgsz=640, batch=16)"
   ]
  },
  {
   "cell_type": "markdown",
   "metadata": {},
   "source": [
    "## Inference using the model\n",
    "\n",
    "Once we have the re-trained model we can start making predictions with new images. For this purpose we have included new images on the test folder.\n",
    "Note that the results/weights are saved under runs/detect/train\n",
    "\n",
    "Since we retrained this model with the football players dataset, the new re-trained model should be able to detect players, goalkeepers and even referees on an image of a football (or soccer) field.\n",
    "\n",
    "In this case we are testing with a sample image \"football_image.jpg\" under the test folder.\n"
   ]
  },
  {
   "cell_type": "code",
   "execution_count": null,
   "metadata": {},
   "outputs": [],
   "source": [
    "model = YOLO(\"/opt/app-root/src/genai-demo/notebooks/ultralytics/runs/detect/train/weights/best.pt\")  # load a fine-tuned model\n",
    "results = model.predict(\"/opt/app-root/src/genai-demo/test/football_image.jpg\", save=True)  # predict and save image"
   ]
  },
  {
   "cell_type": "markdown",
   "metadata": {},
   "source": [
    "And here the results:\n"
   ]
  },
  {
   "cell_type": "code",
   "execution_count": null,
   "metadata": {},
   "outputs": [],
   "source": [
    "Image.open('/opt/app-root/src/genai-demo/notebooks/ultralytics/runs/detect/predict/football_image.jpg')"
   ]
  },
  {
   "cell_type": "markdown",
   "metadata": {},
   "source": [
    "## Exporting the new model\n",
    "\n",
    "After retraining the model, and if the results are as expected, we can export the model to the ONNX format."
   ]
  },
  {
   "cell_type": "code",
   "execution_count": null,
   "metadata": {},
   "outputs": [],
   "source": [
    "model.export(format='onnx')  # export to ONNX"
   ]
  }
 ],
 "metadata": {
  "language_info": {
   "name": "python"
  }
 },
 "nbformat": 4,
 "nbformat_minor": 2
}
