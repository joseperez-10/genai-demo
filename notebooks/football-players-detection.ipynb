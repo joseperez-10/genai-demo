{
 "cells": [
  {
   "cell_type": "markdown",
   "metadata": {},
   "source": [
    "#Retraining an pre-trained model\n",
    "\n",
    "This example shows how to retrain a pre-trained YOLO model using a dataset obtained from Roboflow.The dataset has been customized with a few additional images.\n"
   ]
  },
  {
   "cell_type": "markdown",
   "metadata": {},
   "source": [
    "#Verify if we can access to GPU\n",
    "\n",
    "First, we verify if we can access the GPU"
   ]
  },
  {
   "cell_type": "code",
   "execution_count": null,
   "metadata": {},
   "outputs": [],
   "source": [
    "!nvidia-smi"
   ]
  },
  {
   "cell_type": "markdown",
   "metadata": {},
   "source": [
    "#Setup ultralytics\n",
    "Here we clone the Ultralytics's GitHub [repository](https://github.com/ultralytics/ultralytics), install and import YOLO."
   ]
  },
  {
   "cell_type": "code",
   "execution_count": null,
   "metadata": {},
   "outputs": [],
   "source": [
    "!pip install --upgrade pip\n",
    "\n",
    "!git clone https://github.com/ultralytics/ultralytics\n",
    "%cd ultralytics\n",
    "!pip install -e .\n",
    "\n",
    "from ultralytics import YOLO\n",
    "from PIL import Image"
   ]
  },
  {
   "cell_type": "markdown",
   "metadata": {},
   "source": [
    "Dataset verification"
   ]
  },
  {
   "cell_type": "code",
   "execution_count": null,
   "metadata": {},
   "outputs": [],
   "source": [
    "!ls /opt/app-root/src/genai-demo/dataset/*"
   ]
  },
  {
   "cell_type": "markdown",
   "metadata": {},
   "source": [
    "Load and train the model"
   ]
  },
  {
   "cell_type": "code",
   "execution_count": null,
   "metadata": {},
   "outputs": [],
   "source": [
    "model = YOLO(\"yolo11n.pt\")\n",
    "model.train(data='/opt/app-root/src/genai-demo/dataset/data.yaml', epochs=20, imgsz=640, batch=16)"
   ]
  },
  {
   "cell_type": "markdown",
   "metadata": {},
   "source": [
    "Inference using the model"
   ]
  },
  {
   "cell_type": "code",
   "execution_count": null,
   "metadata": {},
   "outputs": [],
   "source": [
    "model = YOLO(\"/opt/app-root/src/genai-demo/notebooks/ultralytics/runs/detect/train/weights/best.pt\")  # load a fine-tuned model\n",
    "#results = model.predict(\"https://ultralytics.com/assets/african-wildlife-sample.jpg\", save=True)\n",
    "#results = model.predict(\"http://10.76.47.214/jpocp/genai/sample2.jpg\", save=True)\n",
    "#results = model.predict(\"/opt/app-root/src/gen-ai-demo/datasets/foorball/test/images/40cd38_7_6_png.rf.68ef7fcd663cdf0f5b96bacdbcd94e07.jpg\", save=True)\n",
    "#results = model.predict(\"/opt/app-root/src/genai-demo/dataset/valid/images/2e57b9_3_10_png.rf.6501f2d4a456a235edc4f543acc96cdf.jpg\", save=True)\n",
    "#results = model.predict(\"/opt/app-root/src/genai-demo/test/football_image1.jpg\", save=True)\n",
    "\n",
    "results = model.predict(\"/opt/app-root/src/football_image.jpg\", save=True)\n",
    "#results = model.predict(\"/opt/app-root/src/genai-demo/dataset/train/images/football_image5_jpg.rf.c6ff18ffcd6b735d2cfa421e5c127e96.jpg\", save=True)\n"
   ]
  },
  {
   "cell_type": "code",
   "execution_count": null,
   "metadata": {},
   "outputs": [],
   "source": [
    "Image.open('/opt/app-root/src/genai-demo/notebooks/ultralytics/runs/detect/predict/football_image.jpg')"
   ]
  },
  {
   "cell_type": "markdown",
   "metadata": {},
   "source": [
    "#Export the model\n",
    "After retraining the model, and if the results are as expected, we can export the model to the ONNX format."
   ]
  },
  {
   "cell_type": "code",
   "execution_count": null,
   "metadata": {},
   "outputs": [],
   "source": [
    "model.export(format='onnx')  # export to ONNX"
   ]
  }
 ],
 "metadata": {
  "language_info": {
   "name": "python"
  }
 },
 "nbformat": 4,
 "nbformat_minor": 2
}
